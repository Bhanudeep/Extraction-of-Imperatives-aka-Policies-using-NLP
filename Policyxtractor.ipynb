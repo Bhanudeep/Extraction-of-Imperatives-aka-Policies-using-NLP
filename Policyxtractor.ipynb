{
  "cells": [
    {
      "cell_type": "code",
      "execution_count": null,
      "metadata": {
        "colab": {
          "base_uri": "https://localhost:8080/"
        },
        "id": "t6YgOjV_oegJ",
        "outputId": "5d26995f-1f95-486f-95ab-10aebecd0f28"
      },
      "outputs": [
        {
          "output_type": "stream",
          "name": "stdout",
          "text": [
            "Mounted at /content/drive\n"
          ]
        }
      ],
      "source": [
        "from google.colab import drive\n",
        "drive.mount('/content/drive')\n"
      ]
    },
    {
      "cell_type": "code",
      "execution_count": null,
      "metadata": {
        "colab": {
          "base_uri": "https://localhost:8080/"
        },
        "id": "byLuwpXmowOL",
        "outputId": "a1cd3722-1e50-4e53-9fc0-fcece68fbd97"
      },
      "outputs": [
        {
          "output_type": "stream",
          "name": "stdout",
          "text": [
            "Archive:  pegasus-my-model.zip\n",
            "   creating: pegasus-my-model/\n",
            "  inflating: pegasus-my-model/config.json  \n",
            "  inflating: pegasus-my-model/pytorch_model.bin  \n",
            "  inflating: pegasus-my-model/generation_config.json  \n",
            "\n",
            "7-Zip [64] 16.02 : Copyright (c) 1999-2016 Igor Pavlov : 2016-05-21\n",
            "p7zip Version 16.02 (locale=en_US.UTF-8,Utf16=on,HugeFiles=on,64 bits,2 CPUs Intel(R) Xeon(R) CPU @ 2.30GHz (306F0),ASM,AES-NI)\n",
            "\n",
            "Scanning the drive for archives:\n",
            "  0M Scan\b\b\b\b\b\b\b\b\b         \b\b\b\b\b\b\b\b\b1 file, 2767662 bytes (2703 KiB)\n",
            "\n",
            "Extracting archive: tokenizer.zip\n",
            "\n",
            "WARNINGS:\n",
            "There are data after the end of archive\n",
            "\n",
            "--\n",
            "Path = tokenizer.zip\n",
            "Type = zip\n",
            "WARNINGS:\n",
            "There are data after the end of archive\n",
            "Physical Size = 2432407\n",
            "Tail Size = 335255\n",
            "\n",
            "  0%\b\b\b\b    \b\b\b\bEverything is Ok\n",
            "\n",
            "Archives with Warnings: 1\n",
            "\n",
            "Warnings: 1\n",
            "Folders: 1\n",
            "Files: 4\n",
            "Size:       8519505\n",
            "Compressed: 2767662\n"
          ]
        }
      ],
      "source": [
        "!cp /content/drive/MyDrive/pegasus-my-model.zip /content/\n",
        "!cp /content/drive/MyDrive/tokenizer.zip /content/\n",
        "!cp /content/drive/MyDrive/example.pdf /content/\n",
        "!unzip  pegasus-my-model.zip\n",
        "!7z x tokenizer.zip\n",
        "!mv /content/tokenizer/tokenizer.json /content/pegasus-my-model/\n",
        "!mv /content/tokenizer/tokenizer_config.json /content/pegasus-my-model/"
      ]
    },
    {
      "cell_type": "code",
      "execution_count": null,
      "metadata": {
        "colab": {
          "base_uri": "https://localhost:8080/"
        },
        "id": "yvFGK_r1zSwi",
        "outputId": "765e913f-0456-475b-bb52-6ca501126ce7"
      },
      "outputs": [
        {
          "output_type": "stream",
          "name": "stdout",
          "text": [
            "Collecting PyPDF2\n",
            "  Downloading pypdf2-3.0.1-py3-none-any.whl (232 kB)\n",
            "\u001b[?25l     \u001b[90m━━━━━━━━━━━━━━━━━━━━━━━━━━━━━━━━━━━━━━━━\u001b[0m \u001b[32m0.0/232.6 kB\u001b[0m \u001b[31m?\u001b[0m eta \u001b[36m-:--:--\u001b[0m\r\u001b[2K     \u001b[91m━━━━━━━━━━━━━━━━━━━━\u001b[0m\u001b[91m╸\u001b[0m\u001b[90m━━━━━━━━━━━━━━━━━━\u001b[0m \u001b[32m122.9/232.6 kB\u001b[0m \u001b[31m3.5 MB/s\u001b[0m eta \u001b[36m0:00:01\u001b[0m\r\u001b[2K     \u001b[90m━━━━━━━━━━━━━━━━━━━━━━━━━━━━━━━━━━━━━━━\u001b[0m \u001b[32m232.6/232.6 kB\u001b[0m \u001b[31m4.5 MB/s\u001b[0m eta \u001b[36m0:00:00\u001b[0m\n",
            "\u001b[?25hInstalling collected packages: PyPDF2\n",
            "Successfully installed PyPDF2-3.0.1\n",
            "\u001b[2K     \u001b[90m━━━━━━━━━━━━━━━━━━━━━━━━━━━━━━━━━━━━━━━━\u001b[0m \u001b[32m7.4/7.4 MB\u001b[0m \u001b[31m18.2 MB/s\u001b[0m eta \u001b[36m0:00:00\u001b[0m\n",
            "\u001b[2K     \u001b[90m━━━━━━━━━━━━━━━━━━━━━━━━━━━━━━━━━━━━━━\u001b[0m \u001b[32m519.3/519.3 kB\u001b[0m \u001b[31m27.1 MB/s\u001b[0m eta \u001b[36m0:00:00\u001b[0m\n",
            "\u001b[2K     \u001b[90m━━━━━━━━━━━━━━━━━━━━━━━━━━━━━━━━━━━━━━\u001b[0m \u001b[32m118.9/118.9 kB\u001b[0m \u001b[31m15.8 MB/s\u001b[0m eta \u001b[36m0:00:00\u001b[0m\n",
            "\u001b[?25h  Preparing metadata (setup.py) ... \u001b[?25l\u001b[?25hdone\n",
            "\u001b[2K     \u001b[90m━━━━━━━━━━━━━━━━━━━━━━━━━━━━━━━━━━━━━━━━\u001b[0m \u001b[32m66.7/66.7 kB\u001b[0m \u001b[31m8.1 MB/s\u001b[0m eta \u001b[36m0:00:00\u001b[0m\n",
            "\u001b[2K     \u001b[90m━━━━━━━━━━━━━━━━━━━━━━━━━━━━━━━━━━━━━━\u001b[0m \u001b[32m268.8/268.8 kB\u001b[0m \u001b[31m30.9 MB/s\u001b[0m eta \u001b[36m0:00:00\u001b[0m\n",
            "\u001b[2K     \u001b[90m━━━━━━━━━━━━━━━━━━━━━━━━━━━━━━━━━━━━━━━━\u001b[0m \u001b[32m7.8/7.8 MB\u001b[0m \u001b[31m47.0 MB/s\u001b[0m eta \u001b[36m0:00:00\u001b[0m\n",
            "\u001b[2K     \u001b[90m━━━━━━━━━━━━━━━━━━━━━━━━━━━━━━━━━━━━━━━━\u001b[0m \u001b[32m1.3/1.3 MB\u001b[0m \u001b[31m54.4 MB/s\u001b[0m eta \u001b[36m0:00:00\u001b[0m\n",
            "\u001b[2K     \u001b[90m━━━━━━━━━━━━━━━━━━━━━━━━━━━━━━━━━━━━━━━━\u001b[0m \u001b[32m1.3/1.3 MB\u001b[0m \u001b[31m53.6 MB/s\u001b[0m eta \u001b[36m0:00:00\u001b[0m\n",
            "\u001b[2K     \u001b[90m━━━━━━━━━━━━━━━━━━━━━━━━━━━━━━━━━━━━━━\u001b[0m \u001b[32m115.3/115.3 kB\u001b[0m \u001b[31m14.7 MB/s\u001b[0m eta \u001b[36m0:00:00\u001b[0m\n",
            "\u001b[2K     \u001b[90m━━━━━━━━━━━━━━━━━━━━━━━━━━━━━━━━━━━━━━\u001b[0m \u001b[32m194.1/194.1 kB\u001b[0m \u001b[31m24.1 MB/s\u001b[0m eta \u001b[36m0:00:00\u001b[0m\n",
            "\u001b[2K     \u001b[90m━━━━━━━━━━━━━━━━━━━━━━━━━━━━━━━━━━━━━━\u001b[0m \u001b[32m134.8/134.8 kB\u001b[0m \u001b[31m18.0 MB/s\u001b[0m eta \u001b[36m0:00:00\u001b[0m\n",
            "\u001b[2K     \u001b[90m━━━━━━━━━━━━━━━━━━━━━━━━━━━━━━━━━━━━━━━━\u001b[0m \u001b[32m2.1/2.1 MB\u001b[0m \u001b[31m66.5 MB/s\u001b[0m eta \u001b[36m0:00:00\u001b[0m\n",
            "\u001b[2K     \u001b[90m━━━━━━━━━━━━━━━━━━━━━━━━━━━━━━━━━━━━━━\u001b[0m \u001b[32m412.3/412.3 kB\u001b[0m \u001b[31m43.5 MB/s\u001b[0m eta \u001b[36m0:00:00\u001b[0m\n",
            "\u001b[2K     \u001b[90m━━━━━━━━━━━━━━━━━━━━━━━━━━━━━━━━━━━━━━\u001b[0m \u001b[32m138.8/138.8 kB\u001b[0m \u001b[31m17.4 MB/s\u001b[0m eta \u001b[36m0:00:00\u001b[0m\n",
            "\u001b[2K     \u001b[90m━━━━━━━━━━━━━━━━━━━━━━━━━━━━━━━━━━━━━━━━\u001b[0m \u001b[32m49.8/49.8 kB\u001b[0m \u001b[31m6.1 MB/s\u001b[0m eta \u001b[36m0:00:00\u001b[0m\n",
            "\u001b[2K     \u001b[90m━━━━━━━━━━━━━━━━━━━━━━━━━━━━━━━━━━━━━━━━\u001b[0m \u001b[32m2.7/2.7 MB\u001b[0m \u001b[31m29.2 MB/s\u001b[0m eta \u001b[36m0:00:00\u001b[0m\n",
            "\u001b[2K     \u001b[90m━━━━━━━━━━━━━━━━━━━━━━━━━━━━━━━━━━━━━━━━\u001b[0m \u001b[32m93.1/93.1 kB\u001b[0m \u001b[31m11.1 MB/s\u001b[0m eta \u001b[36m0:00:00\u001b[0m\n",
            "\u001b[?25h  Building wheel for rouge_score (setup.py) ... \u001b[?25l\u001b[?25hdone\n"
          ]
        }
      ],
      "source": [
        "!pip install PyPDF2\n",
        "!pip install transformers[sentencepiece] datasets sacrebleu rouge_score py7zr -q"
      ]
    },
    {
      "cell_type": "code",
      "execution_count": null,
      "metadata": {
        "id": "pcTAmncMnox-"
      },
      "outputs": [],
      "source": [
        "from PyPDF2 import PdfReader\n",
        "from transformers import AutoModelForSeq2SeqLM, AutoTokenizer, pipeline\n",
        "import torch\n",
        "device = \"cuda\" if torch.cuda.is_available() else \"cpu\"\n",
        "model_ckpt = \"pegasus-my-model\"\n",
        "tokenizer = AutoTokenizer.from_pretrained(\"pegasus-my-model\")\n",
        "model_pegasus = AutoModelForSeq2SeqLM.from_pretrained(model_ckpt).to(device)\n",
        "pipe = pipeline('summarization', model = model_ckpt )"
      ]
    },
    {
      "cell_type": "code",
      "execution_count": null,
      "metadata": {
        "id": "Mbm0ROIwWvYS"
      },
      "outputs": [],
      "source": [
        "# @title Pdf\n",
        "# reading pdf-file and breaking it into segments to feed it to model.\n",
        "reader = PdfReader('example.pdf')\n",
        "length=len(reader.pages)\n",
        "segment=[]\n",
        "Result=[]\n",
        "for i in range(length):\n",
        "  page = reader.pages[i]\n",
        "  text = page.extract_text()\n",
        "  segment.append(text)"
      ]
    },
    {
      "cell_type": "code",
      "execution_count": null,
      "metadata": {
        "id": "cYO-qDP3mEe7",
        "colab": {
          "base_uri": "https://localhost:8080/"
        },
        "outputId": "4373b4b5-23aa-4d85-e7c2-22d59d46a1ce"
      },
      "outputs": [
        {
          "output_type": "stream",
          "name": "stdout",
          "text": [
            "['1.The Administrator of the FAA must determine that an emergency exists related to safety in air commerce and issue an immediate order to meet the emergency, with or without notice, under 49 U.S.C. 46105(c). 2.The rescission of a declaration of compliance would go into effect immediately, without the rescission process or the rescission procedures previously described. 3.The FAA would initiate the notification process with the applicant, but would not initiate the rescission process if there is no', '1.The FAA did not receive any comments about the emergency rescission process. 2.An applicant may appeal the decision as provided in 49 U.S.C. 46110 following the issuance of the order. 3.The FAA would consider this petition and issue a final agency decision either affirming or withdrawing the rescission of the declaration of compliance. 4.An applicant would have the opportunity to petition the FAA for reconsideration of a declaration of compliance once a declaration of compliance is rescinded. 5.The FAA adopts the reconsideration process as proposed, with no changes. 6.The FAA does not seek to preclude existing small unmanned aircraft from conducting operations over people.']\n"
          ]
        }
      ],
      "source": [
        "# @title Pdf input\n",
        "text=segment[30]\n",
        "first_part, second_part = text[:len(text)//2], text[len(text)//2:]\n",
        "pipe_out = pipe(first_part)\n",
        "Result.append(pipe_out[0]['summary_text'].replace(\" .<n>\", \".\\n\"))\n",
        "pipe_out = pipe(second_part)\n",
        "Result.append(pipe_out[0]['summary_text'].replace(\" .<n>\", \".\\n\"))\n",
        "print(Result)\n"
      ]
    },
    {
      "cell_type": "code",
      "execution_count": null,
      "metadata": {
        "id": "_t5NGaq2xbv8",
        "colab": {
          "base_uri": "https://localhost:8080/"
        },
        "outputId": "f4372d6f-25d0-42d7-8e8b-401c7442e581"
      },
      "outputs": [
        {
          "output_type": "stream",
          "name": "stdout",
          "text": [
            "4344 Federal Register / Vol. 86, No. 10 / Friday, January 15, 2021 / Rules and Regulations \n",
            "57When the Administrator determines that an \n",
            "emergency exists related to safety in air commerce and requires immediate action, the Administrator may issue an immediately effective order to meet the emergency, with or without notice, under 49 U.S.C. 46105(c). expressed general support, saying it \n",
            "agrees it is important for the FAA to have a mechanism for serious safety issues to be discussed and addressed by the applicant in collaboration with FAA for operations over people. \n",
            "The National Association of Mutual \n",
            "Insurance Companies (NAMIC) stated publication of the rescission on the FAA website and the Notice of Availability in the Federal Register are insufficient to \n",
            "notify pilots that operations over people are no longer safe. NAMIC recommended the FAA use the contact information it has for registered small unmanned aircraft to notify registered operators of safety defects and rescissions. Another commenter stated that, as written, the proposed rule does not give the FAA a means to identify a safety issue and then inform a specific fleet of that issue; nor does it impose a responsibility on the manufacturer to do so. The commenter questioned why the proposed rule would not require the manufacturer to communicate directly with its customers and post notices of defects and rescissions on their website. The commenter also questioned whether the Federal Register is an \n",
            "effective means of communication, suggesting that ‘‘while it may satisfy the legal concept of the FAA’s obligation, it is not a useful way to reach operators.’’ \n",
            "Publication in the Federal Register \n",
            "and on the FAA website are sufficient notification. This process of notification is similar to what the FAA uses for airworthiness directives and resolution of safety issues. The Federal Register \n",
            "and the FAA website are an effective and timely means of communicating aviation-related safety considerations to the public. The FAA may consider using the registration system as an additional way to notify registered owners of small unmanned aircraft. The rule allows the FAA to request compliance documentation and to inspect facilities as appropriate. Further, members of the public, including applicants and owners, may inform the FAA of potential safety defects. With regard to notification to owners and operators, each applicant must maintain a notification process and is required to inform the public and the FAA of safety defects. Although the rule does not specify how applicants would comply \n",
            "with this requirement, applicants may find posting on their websites an effective way to notify owners of any small unmanned aircraft safety defects. The FAA expects applicants to use their notification processes to disseminate this information. \n",
            "Aside from increasing the notification \n",
            "period before the rescission from 10 business days to 30 calendar days, the Agency adopts the rescission procedure \n",
            "as proposed. \n",
            "11. Emergency Rescission of a \n",
            "Declaration of Compliance \n",
            "The NPRM proposed an emergency \n",
            "rescission process for a declaration of compliance. Prior to rescission of a declaration of compliance, the FAA would typically initiate the safety issue notification process with the applicant. However, if the Administrator determines an emergency exists and safety of persons requires an immediate rescission of a declaration of compliance, the FAA may exercise its authority under 49 U.S.C. 46105(c)\n",
            "57to \n",
            "issue an emergency order rescinding a declaration of compliance. Under these circumstances, rescission would go into effect immediately, without the FAA initiating the notification process or the rescission procedures previously described. The order would remain in effect until the basis for issuing the order no longer exists. The emergency order would be considered a final agency decision; as such, an  applicant may appeal the decision as provided in 49 U.S.C. 46110 following the issuance of the order. The FAA did not receive \n",
            "any comments about the emergency rescission process. This rule adopts the process as proposed, with no changes. \n",
            "12. Petition for Reconsideration of a \n",
            "Rescission of a Declaration of Compliance \n",
            "Once a declaration of compliance is \n",
            "rescinded, the FAA proposed that an applicant would have the opportunity to petition the FAA for reconsideration. An applicant seeking reconsideration must petition the FAA within 60 days of the date of issuance of the notice of rescission. The petition would have to show: (1) The lack of a material fact in the original response to the notification of the safety issue and address why that fact was not present in the original response; (2) an important factual error existed in the decision to rescind the declaration of compliance; or (3) that the FAA did not correctly interpret a law, regulation, or precedent. The FAA would consider this petition and issue a final agency decision either affirming or withdrawing the rescission of the declaration of compliance. An applicant could appeal the final agency decision as provided in 49 U.S.C. 46110. \n",
            "The FAA did not receive comments \n",
            "concerning the reconsideration process. The FAA adopts the reconsideration \n",
            "process, as proposed, with no changes. \n",
            "D. Small Unmanned Aircraft \n",
            "Manufactured Previous to the Effective Date of This Rule \n",
            "Some remote pilots and \n",
            "manufacturers of small unmanned aircraft may wish to use existing small unmanned aircraft to conduct operations over people. The Agency does not seek to preclude existing small unmanned aircraft from conducting operations over people. Instead, the proposed rule included procedures to establish the eligibility of existing small unmanned aircraft to operate over people. As explained in the NPRM, an applicant with a previously manufactured small unmanned aircraft may establish eligibility to operate over people by listing the applicable aircraft serial numbers for the identified small unmanned aircraft on the declaration of compliance submitted to the FAA. An applicant requesting acceptance would be responsible for developing remote pilot operating instructions for the existing aircraft and making those instructions available to remote pilots or owners of the small UAS. \n",
            "The NPRM did not propose to require \n",
            "that an applicant locate owners or remote pilots operating existing small unmanned aircraft and provide the remote pilot operating instructions personally to them. Rather, if a remote pilot owns an existing aircraft that an applicant has identified on a declaration of compliance as eligible for Category 2 or Category 3 operations and the remote \n",
            "pilot intends to conduct operations over people using that aircraft, the remote pilot would be able to access the remote pilot operating instructions if the applicant posted them online. \n",
            "The proposed rule did not identify an \n",
            "applicant seeking FAA acceptance of a declaration of compliance as the only person who could label a small unmanned aircraft manufactured prior to the effective date of the rule. Requiring an applicant to contact all remote pilots of a particular make and model of small unmanned aircraft and provide them with labels would be unreasonable. The NPRM noted that an applicant could make a label available to remote pilots, either as a website download or for cost. Overall, remote pilots could choose to label their existing aircraft in any manner that meets the requirements of the proposed rule. \n",
            "The American Petroleum Institute \n",
            "(API) and other commenters suggested the FAA ensure small UAS owners are not required to buy new aircraft that are appropriately labeled or submit their \n",
            "VerDate Sep<11>2014 05:48 Jan 15, 2021 Jkt 253001 PO 00000 Frm 00032 Fmt 4701 Sfmt 4700 E:\\FR\\FM\\15JAR3.SGM 15JAR3khammond on DSKJM1Z7X2PROD with RULES3\n"
          ]
        }
      ],
      "source": [
        "print(first_part,second_part)"
      ]
    },
    {
      "cell_type": "code",
      "execution_count": null,
      "metadata": {
        "colab": {
          "base_uri": "https://localhost:8080/"
        },
        "id": "BO2VWG1OZxUr",
        "outputId": "930bd4c3-1ce6-434d-c85f-3a064d86938f"
      },
      "outputs": [
        {
          "output_type": "stream",
          "name": "stdout",
          "text": [
            "1.The NPRM proposed to include radio communication procedures as an area of knowledge covered on the initial aeronautical knowledge test. 2.Several commenters argued that radio communications may not be relevant for all small UAS operations and should be removed from the knowledge test. 3.The FAA expects that a number of small UAS operations will take place near an airport, and understanding radio communication procedures will assist a remote pilot in command operating near a Class G airport in complying with the requirement not to interfere with airport operations or traffic patterns. 4.Knowledge of radio communication procedures will provide a remote pilot in command with the ability to utilize a valuable resource,Knowledge of radio communication procedures, to help determine the position of nearby manned aircraft.\n"
          ]
        }
      ],
      "source": [
        "#@title Checking 72nd  policy from json file\n",
        "text=\"Finally, the NPRM proposed to include radio communication procedures as an area of knowledge covered on the initial aeronautical knowledge test. Several commenters, including Princeton University, Predesa, and Aviation Management, argued that radio communications may not be relevant for all small UAS operations and as such, should be removed from the knowledge test. Predesa suggested that the FAA design a new ‘‘Class G-only unmanned aircraft operator certificate with a small UAS rating’’ that, among other things, does not include radio communication procedures as an area of knowledge that is tested on the knowledge test. One commenter recommended removal of ‘‘radio communication procedures’’ because there is no requirement for radio communications of any sort with small UAS operations. As discussed earlier, the FAA expects that a number of small UAS operationswill take place near an airport. That is why § 107.43 prohibits a small unmanned aircraft from interfering with airport operations or traffic patterns. Understanding radio communication procedures will assist a remote pilot in command operating near a Class G airport in complying with this requirement. Understanding radio communication procedures will assist a remote pilot in command operating near a Class G airport in complying with this requirement if that pilot chooses to use a radio to aid in his or her situational awareness of manned aircraft operating nearby. As described in section 4–1–9 of the Aeronautical Information Manual, manned-aircraft pilots may broadcast their position or intended flight activity or ground operation on the designated Common Traffic Advisory Frequency (CTAF). This procedure is used primarily at airports that do not have an airport traffic control tower, or have a control tower that is not in operation. Pilots of radio-equipped aircraft use standard phraseology to announce their identification, location, altitude, and intended course of action. Self\\u0002announcing for arriving aircraft generally begins within 10 nautical miles of the airport and continues until the aircraft is clear of runways and taxiways. Aircraft on the ground intending to depart will begin to make position reports prior to entry of the runway or taxiway and continue until departing the traffic pattern. Aircraft remaining in the pattern make position reports on each leg of the traffic pattern. Thus, knowledge of radio communication procedures will provide a remote pilot in command with the ability to utilize a valuable resource, CTAF, to help determine the position of nearby manned aircraft. As such, this rule will retain this area of knowledge on the initial aeronautical knowledge test.\"\n",
        "pipe_out=pipe(text)\n",
        "print(pipe_out[0]['summary_text'].replace(\" .<n>\", \".\\n\"))\n",
        "#Policy-Extractor gives 88.1% accuracy\n",
        "#pegasus-my-model gives 95.5% accuracy"
      ]
    },
    {
      "cell_type": "code",
      "source": [
        "# @title Importing 2nd model Policy-Extractor\n",
        "!cp /content/drive/MyDrive/Policy-Extractor.zip /content/\n",
        "!cp /content/drive/MyDrive/petokenizer.zip /content/\n",
        "!unzip  Policy-Extractor.zip\n",
        "!7z x tokenizer.zip -y\n",
        "!mv /content/tokenizer/tokenizer.json /content/Policy-Extractor/\n",
        "!mv /content/tokenizer/tokenizer_config.json /content/Policy-Extractor/"
      ],
      "metadata": {
        "colab": {
          "base_uri": "https://localhost:8080/"
        },
        "id": "ZE488H1gslPh",
        "outputId": "b042e16b-1e56-4c30-b3e4-0849e95cce45"
      },
      "execution_count": null,
      "outputs": [
        {
          "output_type": "stream",
          "name": "stdout",
          "text": [
            "Archive:  Policy-Extractor.zip\n",
            "   creating: Policy-Extractor/\n",
            "  inflating: Policy-Extractor/pytorch_model.bin  \n",
            "  inflating: Policy-Extractor/config.json  \n",
            "  inflating: Policy-Extractor/generation_config.json  \n",
            "\n",
            "7-Zip [64] 16.02 : Copyright (c) 1999-2016 Igor Pavlov : 2016-05-21\n",
            "p7zip Version 16.02 (locale=en_US.UTF-8,Utf16=on,HugeFiles=on,64 bits,2 CPUs Intel(R) Xeon(R) CPU @ 2.30GHz (306F0),ASM,AES-NI)\n",
            "\n",
            "Scanning the drive for archives:\n",
            "  0M Scan\b\b\b\b\b\b\b\b\b         \b\b\b\b\b\b\b\b\b1 file, 2767662 bytes (2703 KiB)\n",
            "\n",
            "Extracting archive: tokenizer.zip\n",
            "\n",
            "WARNINGS:\n",
            "There are data after the end of archive\n",
            "\n",
            "--\n",
            "Path = tokenizer.zip\n",
            "Type = zip\n",
            "WARNINGS:\n",
            "There are data after the end of archive\n",
            "Physical Size = 2432407\n",
            "Tail Size = 335255\n",
            "\n",
            "  0%\b\b\b\b    \b\b\b\b 40% 1 - tokenizer/tokenizer.json\b\b\b\b\b\b\b\b\b\b\b\b\b\b\b\b\b\b\b\b\b\b\b\b\b\b\b\b\b\b\b\b\b                                 \b\b\b\b\b\b\b\b\b\b\b\b\b\b\b\b\b\b\b\b\b\b\b\b\b\b\b\b\b\b\b\b\b 46% 1 - tokenizer/tokenizer.json\b\b\b\b\b\b\b\b\b\b\b\b\b\b\b\b\b\b\b\b\b\b\b\b\b\b\b\b\b\b\b\b\b                                 \b\b\b\b\b\b\b\b\b\b\b\b\b\b\b\b\b\b\b\b\b\b\b\b\b\b\b\b\b\b\b\b\b 52% 1 - tokenizer/tokenizer.json\b\b\b\b\b\b\b\b\b\b\b\b\b\b\b\b\b\b\b\b\b\b\b\b\b\b\b\b\b\b\b\b\b                                 \b\b\b\b\b\b\b\b\b\b\b\b\b\b\b\b\b\b\b\b\b\b\b\b\b\b\b\b\b\b\b\b\b 58% 1 - tokenizer/tokenizer.json\b\b\b\b\b\b\b\b\b\b\b\b\b\b\b\b\b\b\b\b\b\b\b\b\b\b\b\b\b\b\b\b\b                                 \b\b\b\b\b\b\b\b\b\b\b\b\b\b\b\b\b\b\b\b\b\b\b\b\b\b\b\b\b\b\b\b\b 64% 1 - tokenizer/tokenizer.json\b\b\b\b\b\b\b\b\b\b\b\b\b\b\b\b\b\b\b\b\b\b\b\b\b\b\b\b\b\b\b\b\b                                 \b\b\b\b\b\b\b\b\b\b\b\b\b\b\b\b\b\b\b\b\b\b\b\b\b\b\b\b\b\b\b\b\b 70% 1 - tokenizer/tokenizer.json\b\b\b\b\b\b\b\b\b\b\b\b\b\b\b\b\b\b\b\b\b\b\b\b\b\b\b\b\b\b\b\b\b                                 \b\b\b\b\b\b\b\b\b\b\b\b\b\b\b\b\b\b\b\b\b\b\b\b\b\b\b\b\b\b\b\b\bEverything is Ok\n",
            "\n",
            "Archives with Warnings: 1\n",
            "\n",
            "Warnings: 1\n",
            "Folders: 1\n",
            "Files: 4\n",
            "Size:       8519505\n",
            "Compressed: 2767662\n"
          ]
        }
      ]
    },
    {
      "cell_type": "code",
      "source": [
        "from PyPDF2 import PdfReader\n",
        "from transformers import AutoModelForSeq2SeqLM, AutoTokenizer, pipeline\n",
        "import torch\n",
        "device = \"cuda\" if torch.cuda.is_available() else \"cpu\"\n",
        "model_ckpt = \"Policy-Extractor\"\n",
        "tokenizer = AutoTokenizer.from_pretrained(\"Policy-Extractor\")\n",
        "model_pegasus = AutoModelForSeq2SeqLM.from_pretrained(model_ckpt).to(device)\n",
        "pipe = pipeline('summarization', model = model_ckpt )"
      ],
      "metadata": {
        "id": "1eUIOcQGtFS8"
      },
      "execution_count": null,
      "outputs": []
    },
    {
      "cell_type": "code",
      "source": [
        "# @title Testing 2nd model Policy-Extractor\n",
        "text=\"Finally, the NPRM proposed to include radio communication procedures as an area of knowledge covered on the initial aeronautical knowledge test. Several commenters, including Princeton University, Predesa, and Aviation Management, argued that radio communications may not be relevant for all small UAS operations and as such, should be removed from the knowledge test. Predesa suggested that the FAA design a new ‘‘Class G-only unmanned aircraft operator certificate with a small UAS rating’’ that, among other things, does not include radio communication procedures as an area of knowledge that is tested on the knowledge test. One commenter recommended removal of ‘‘radio communication procedures’’ because there is no requirement for radio communications of any sort with small UAS operations. As discussed earlier, the FAA expects that a number of small UAS operationswill take place near an airport. That is why § 107.43 prohibits a small unmanned aircraft from interfering with airport operations or traffic patterns. Understanding radio communication procedures will assist a remote pilot in command operating near a Class G airport in complying with this requirement. Understanding radio communication procedures will assist a remote pilot in command operating near a Class G airport in complying with this requirement if that pilot chooses to use a radio to aid in his or her situational awareness of manned aircraft operating nearby. As described in section 4–1–9 of the Aeronautical Information Manual, manned-aircraft pilots may broadcast their position or intended flight activity or ground operation on the designated Common Traffic Advisory Frequency (CTAF). This procedure is used primarily at airports that do not have an airport traffic control tower, or have a control tower that is not in operation. Pilots of radio-equipped aircraft use standard phraseology to announce their identification, location, altitude, and intended course of action. Self\\u0002announcing for arriving aircraft generally begins within 10 nautical miles of the airport and continues until the aircraft is clear of runways and taxiways. Aircraft on the ground intending to depart will begin to make position reports prior to entry of the runway or taxiway and continue until departing the traffic pattern. Aircraft remaining in the pattern make position reports on each leg of the traffic pattern. Thus, knowledge of radio communication procedures will provide a remote pilot in command with the ability to utilize a valuable resource, CTAF, to help determine the position of nearby manned aircraft. As such, this rule will retain this area of knowledge on the initial aeronautical knowledge test.\"\n",
        "pipe_out=pipe(text)\n",
        "print(pipe_out[0]['summary_text'].replace(\" .<n>\", \".\\n\"))"
      ],
      "metadata": {
        "colab": {
          "base_uri": "https://localhost:8080/"
        },
        "id": "JYr81ECitUrV",
        "outputId": "23c08c0f-5faa-4a85-ddb6-ff5e365e387e"
      },
      "execution_count": null,
      "outputs": [
        {
          "output_type": "stream",
          "name": "stdout",
          "text": [
            "1.The NPRM proposed to include radio communication procedures as an area of knowledge covered on the initial aeronautical knowledge test. 2.Several commenters argued that radio communications may not be relevant for all small UAS operations and should be removed from the knowledge test. 3.The FAA expects that a number of small UAS operations will take place near an airport, and understanding radio communication procedures will assist a remote pilot in command operating near a Class G airport in complying with the requirement not to interfere with airport operations or traffic patterns. 4.Knowledge of radio communication procedures will provide a remote pilot in command with the ability to utilize a valuable resource,’\n"
          ]
        }
      ]
    },
    {
      "cell_type": "code",
      "source": [
        " # @title Policy-Extractor gives 88.1% accuracy, pegasus-my-model gives 95.5% accuracy"
      ],
      "metadata": {
        "id": "PckRvZXAydD5"
      },
      "execution_count": null,
      "outputs": []
    }
  ],
  "metadata": {
    "accelerator": "GPU",
    "colab": {
      "provenance": []
    },
    "kernelspec": {
      "display_name": "Python 3",
      "name": "python3"
    },
    "language_info": {
      "name": "python"
    }
  },
  "nbformat": 4,
  "nbformat_minor": 0
}